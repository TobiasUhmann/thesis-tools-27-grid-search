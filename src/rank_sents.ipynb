{
 "cells": [
  {
   "cell_type": "code",
   "execution_count": null,
   "metadata": {},
   "outputs": [],
   "source": [
    "%load_ext autoreload\n",
    "%autoreload 2\n",
    "\n",
    "from models.ower import Ower\n",
    "from pathlib import Path\n",
    "from random import shuffle\n",
    "from typing import List, Tuple\n",
    "\n",
    "import torch\n",
    "from sklearn.metrics import precision_recall_fscore_support\n",
    "from torch import Tensor, tensor\n",
    "\n",
    "from data.ower.ower_dir import OwerDir, Sample\n",
    "from models.base import Base"
   ]
  },
  {
   "cell_type": "code",
   "execution_count": null,
   "metadata": {
    "pycharm": {
     "name": "#%%\n"
    }
   },
   "outputs": [],
   "source": [
    "ower_dir_path = '../data/ower/ower-v4-fb-irt-100-5/'\n",
    "class_count = 100\n",
    "sent_count = 5\n",
    "\n",
    "batch_size = 1024\n",
    "device = 'cuda'\n",
    "emb_size = None\n",
    "epoch_count = 20\n",
    "log_dir = None\n",
    "log_steps = False\n",
    "lr = 0.01\n",
    "mode = 'mean'\n",
    "model_name = 'base'\n",
    "save_dir = None\n",
    "sent_len = 64\n",
    "update_vectors = False\n",
    "vectors = 'glove.6B.300d'"
   ]
  },
  {
   "cell_type": "code",
   "execution_count": null,
   "metadata": {
    "pycharm": {
     "name": "#%%\n"
    }
   },
   "outputs": [],
   "source": [
    "ower_dir = OwerDir(Path(ower_dir_path))\n",
    "ower_dir.check()\n",
    "\n",
    "train_set, valid_set, test_set, vocab = ower_dir.read_datasets(class_count, sent_count)"
   ]
  },
  {
   "cell_type": "code",
   "execution_count": null,
   "metadata": {
    "pycharm": {
     "name": "#%%\n"
    }
   },
   "outputs": [],
   "source": [
    "def generate_batch(batch: List[Sample]) -> Tuple[Tensor, Tensor, Tensor]:\n",
    "    \"\"\"\n",
    "    :param batch: [Sample(ent, [class], [sent])]\n",
    "\n",
    "    :return: ent_batch      IntTensor(batch_size),\n",
    "             sents_batch    IntTensor(batch_size, sent_count, sent_len),\n",
    "             classes_batch  IntTensor(batch_size, class_count)\n",
    "    \"\"\"\n",
    "\n",
    "    ent_batch, classes_batch, sents_batch = zip(*batch)\n",
    "\n",
    "    for sents in sents_batch:\n",
    "        shuffle(sents)\n",
    "\n",
    "    cropped_sents_batch = [[sent[:sent_len] for sent in sents] for sents in sents_batch]\n",
    "    padded_sents_batch = [[sent + [0] * (sent_len - len(sent)) for sent in sents] for sents in cropped_sents_batch]\n",
    "\n",
    "    return tensor(ent_batch), tensor(padded_sents_batch), tensor(classes_batch)"
   ]
  },
  {
   "cell_type": "code",
   "execution_count": null,
   "metadata": {
    "pycharm": {
     "name": "#%%\n"
    }
   },
   "outputs": [],
   "source": [
    "def ids_to_sent(ids: List[int]) -> str:\n",
    "    return ' '.join([vocab.itos[id] for id in ids])\n",
    "\n",
    "ent_to_lbl = ower_dir.ent_labels_txt.load()\n",
    "rel_tail_freq_lbl_tuples = ower_dir.classes_tsv.load()"
   ]
  },
  {
   "cell_type": "code",
   "execution_count": null,
   "metadata": {
    "pycharm": {
     "name": "#%%\n"
    }
   },
   "outputs": [],
   "source": [
    "ower = Base.from_random(154289, 300, 100, 'mean')\n",
    "ower.load_state_dict(torch.load('../models/model_base_0/model.pt'))\n",
    "ower.eval()"
   ]
  },
  {
   "cell_type": "code",
   "execution_count": null,
   "metadata": {
    "pycharm": {
     "name": "#%%\n"
    },
    "scrolled": false
   },
   "outputs": [],
   "source": [
    "samples = valid_set[:20]\n",
    "\n",
    "ent_batch, sents_batch, gt_batch, = generate_batch(samples)\n",
    "\n",
    "logits = ower(sents_batch)\n",
    "pred_batch = (logits > 0).int()\n",
    "\n",
    "prec, rec, f1, supp = precision_recall_fscore_support(gt_batch, pred_batch, average='macro')\n",
    "\n",
    "foo_logits = ower.foo(sents_batch)\n",
    "\n",
    "print(f'Precision = {prec:.2f}, Recall = {rec:.2f}, F1 = {f1:.2f}')\n",
    "print()\n",
    "\n",
    "for i, sample in enumerate(samples):\n",
    "    print(ent_to_lbl[sample.ent])\n",
    "    print()\n",
    "    for sent in sample.sents:\n",
    "        print('-', ids_to_sent(sent))\n",
    "    print()\n",
    "    print('Ground Truth:')\n",
    "    print(gt_batch[i])\n",
    "    print()\n",
    "    print('Predicted:')\n",
    "    print(pred_batch[i])\n",
    "\n",
    "    for c in range(1, 5):\n",
    "        print()\n",
    "        print(f'Class {c}:', rel_tail_freq_lbl_tuples[c][3])\n",
    "        for s, sent in enumerate(sample.sents):\n",
    "            print('{:5.2f} '.format(foo_logits[i][s][c].item()), ids_to_sent(sent))\n",
    "\n",
    "    print()\n",
    "    print()"
   ]
  },
  {
   "cell_type": "code",
   "execution_count": null,
   "metadata": {
    "pycharm": {
     "name": "#%%\n"
    }
   },
   "outputs": [],
   "source": [
    "ower = Ower.from_random(154289, 300, 100, 'mean')\n",
    "ower.load_state_dict(torch.load('../models/model_ower_0/model.pt'))\n",
    "ower.eval()"
   ]
  },
  {
   "cell_type": "code",
   "execution_count": null,
   "metadata": {
    "pycharm": {
     "name": "#%%\n"
    }
   },
   "outputs": [],
   "source": [
    "samples = valid_set[:20]\n",
    "\n",
    "ent_batch, sents_batch, gt_batch, = generate_batch(samples)\n",
    "\n",
    "logits = ower(sents_batch)\n",
    "pred_batch = (logits > 0).int()\n",
    "\n",
    "prec, rec, f1, supp = precision_recall_fscore_support(gt_batch, pred_batch, average='macro')\n",
    "\n",
    "foo_logits = ower.foo(sents_batch)\n",
    "bar_logits = ower.bar(sents_batch)\n",
    "\n",
    "print(f'Precision = {prec:.2f}, Recall = {rec:.2f}, F1 = {f1:.2f}')\n",
    "print()\n",
    "\n",
    "for i, sample in enumerate(samples):\n",
    "    print(ent_to_lbl[sample.ent])\n",
    "    print()\n",
    "    for sent in sample.sents:\n",
    "        print(ids_to_sent(sent))\n",
    "    print()\n",
    "    print('Ground Truth:')\n",
    "    print(gt_batch[i])\n",
    "    print()\n",
    "    print('Predicted:')\n",
    "    print(pred_batch[i])\n",
    "\n",
    "    for c in range(1, 5):\n",
    "        print()\n",
    "        print(f'Class {c}:', rel_tail_freq_lbl_tuples[c][3])\n",
    "        for s, sent in enumerate(sample.sents):\n",
    "            print('{:5.2f} * {:4.2f}  {}'.format(\n",
    "                foo_logits[i][s][c].item(),\n",
    "                bar_logits[i][c][s].item(),\n",
    "                ids_to_sent(sent)))\n",
    "\n",
    "    print()\n",
    "    print()"
   ]
  }
 ],
 "metadata": {
  "kernelspec": {
   "display_name": "Python 3",
   "language": "python",
   "name": "python3"
  },
  "language_info": {
   "codemirror_mode": {
    "name": "ipython",
    "version": 3
   },
   "file_extension": ".py",
   "mimetype": "text/x-python",
   "name": "python",
   "nbconvert_exporter": "python",
   "pygments_lexer": "ipython3",
   "version": "3.9.1"
  }
 },
 "nbformat": 4,
 "nbformat_minor": 1
}